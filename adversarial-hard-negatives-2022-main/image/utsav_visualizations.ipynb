{
  "nbformat": 4,
  "nbformat_minor": 0,
  "metadata": {
    "colab": {
      "name": "utsav_visualizations.ipynb",
      "provenance": [],
      "machine_shape": "hm"
    },
    "kernelspec": {
      "name": "python3",
      "display_name": "Python 3"
    },
    "language_info": {
      "name": "python"
    },
    "accelerator": "GPU"
  },
  "cells": [
    {
      "cell_type": "code",
      "source": [
        "from google.colab import drive\n",
        "drive.mount('/content/drive')"
      ],
      "metadata": {
        "colab": {
          "base_uri": "https://localhost:8080/"
        },
        "id": "tyq_9gDNx4kI",
        "outputId": "bf3e84b1-5fbb-4c96-bd15-3451dcf8a302"
      },
      "execution_count": 1,
      "outputs": [
        {
          "output_type": "stream",
          "name": "stdout",
          "text": [
            "Drive already mounted at /content/drive; to attempt to forcibly remount, call drive.mount(\"/content/drive\", force_remount=True).\n"
          ]
        }
      ]
    },
    {
      "cell_type": "code",
      "source": [
        "cd /content/drive/MyDrive/10-716/adversarial-hard-negatives-2022-adversarial/image"
      ],
      "metadata": {
        "colab": {
          "base_uri": "https://localhost:8080/"
        },
        "id": "045kf2AHyQZm",
        "outputId": "0a879959-dbac-4557-e1cf-fa02a5370f60"
      },
      "execution_count": 2,
      "outputs": [
        {
          "output_type": "stream",
          "name": "stdout",
          "text": [
            "/content/drive/.shortcut-targets-by-id/1VNVUBHcfBzcVUrxUeOOkpf5wPwp7ERLW/10-716/adversarial-hard-negatives-2022-adversarial/image\n"
          ]
        }
      ]
    },
    {
      "cell_type": "code",
      "execution_count": 3,
      "metadata": {
        "colab": {
          "base_uri": "https://localhost:8080/"
        },
        "id": "z0kDoGtAN6By",
        "outputId": "14a6a1bf-5e0f-453b-a921-862bddaca8b5"
      },
      "outputs": [
        {
          "output_type": "stream",
          "name": "stdout",
          "text": [
            "Home device: cuda:0\n",
            "Home device: cuda:0\n",
            "Home device: cuda:0\n"
          ]
        }
      ],
      "source": [
        "import argparse\n",
        "import torch\n",
        "import torch.nn as nn\n",
        "import torch.optim as optim\n",
        "from torch.utils.data import DataLoader\n",
        "from tqdm import tqdm\n",
        "import pickle\n",
        "\n",
        "from model import *\n",
        "from main import *\n",
        "\n",
        "import utils\n",
        "\n",
        "import os\n",
        "import numpy as np\n",
        "import itertools\n",
        "\n",
        "device = torch.device(\"cuda:0\" if torch.cuda.is_available() else \"cpu\")\n",
        "print('Home device: {}'.format(device))\n",
        "\n",
        "from matplotlib import pyplot as plt"
      ]
    },
    {
      "cell_type": "code",
      "source": [
        "def load_model(name):\n",
        "  model_path = f'./modelscopy/{name}'\n",
        "  model = Model().to(device)\n",
        "  model = nn.DataParallel(model)\n",
        "  model.load_state_dict(torch.load(model_path, map_location='cuda:0'))\n",
        "  model.eval()\n",
        "  return model"
      ],
      "metadata": {
        "id": "Zh8I3Q7mTbyR"
      },
      "execution_count": 4,
      "outputs": []
    },
    {
      "cell_type": "code",
      "source": [
        "def make_adv(model, x, tau_plus, beta, batch_size):\n",
        "    eps = 0.03\n",
        "    x.detach()\n",
        "    inputs1_adv = torch.autograd.Variable(x, requires_grad=True).to(device)\n",
        "\n",
        "    # adversarial mode with separate batch norm steps?\n",
        "    feat1, out1 = model(x)\n",
        "    feat2, out2 = model(inputs1_adv)\n",
        "\n",
        "    tmp_loss = criterion(out1, out2, None, None, tau_plus,\n",
        "                         batch_size, beta, 'hard', epoch=10, temp=.5)\n",
        "    tmp_loss.backward()\n",
        "    inputs1_adv.data = inputs1_adv.data + \\\n",
        "        (eps * torch.sign(inputs1_adv.grad.data))\n",
        "    inputs1_adv.grad.data.zero_()\n",
        "    inputs1_adv.detach()\n",
        "    return inputs1_adv"
      ],
      "metadata": {
        "id": "zpydYBBQVD2U"
      },
      "execution_count": 5,
      "outputs": []
    },
    {
      "cell_type": "code",
      "source": [
        "def visualize_plots(model,method,batch_size,tau_plus=None,beta=None,dataset_name = 'mnist'):\n",
        "\n",
        "\n",
        "  if method == 'adv' or method == 'easy':\n",
        "    tau_plus = 0\n",
        "    beta = 0\n",
        "\n",
        "  if method == 'adv':\n",
        "\n",
        "    train_data, _, test_data = utils.get_dataset(dataset_name, root='../data/', pair=True)\n",
        "    test_loader = DataLoader(train_data, batch_size=batch_size, shuffle=False, num_workers=1, pin_memory=True)\n",
        "    \n",
        "    coords1 = []\n",
        "    coords2 = []\n",
        "    labels = []\n",
        "    Ngs = []\n",
        "    Pos = []\n",
        "\n",
        "    data_loader = test_loader\n",
        "\n",
        "    for _ in range(1):\n",
        "      for data1, data2, target in tqdm(data_loader):\n",
        "\n",
        "          if data1.shape[0]!=batch_size:\n",
        "            break\n",
        "\n",
        "          data1 = data1.to(device, non_blocking=True)\n",
        "          data2 = make_adv(model, data1,tau_plus,beta,batch_size)\n",
        "\n",
        "          with torch.no_grad():\n",
        "            \n",
        "              target = target.to(device,non_blocking=True)\n",
        "\n",
        "              _, out1 = model(data1)\n",
        "              _, out2 = model(data2)\n",
        "\n",
        "              labels.append(target.cpu().numpy())\n",
        "              normalized_output1 = out1.cpu().detach().numpy() / np.linalg.norm(out1.cpu().detach().numpy(), axis=1, keepdims=True)\n",
        "              normalized_output2 = out2.cpu().detach().numpy() / np.linalg.norm(out2.cpu().detach().numpy(), axis=1, keepdims=True)\n",
        "\n",
        "              coords1.append(normalized_output1)\n",
        "              coords2.append(normalized_output2)\n",
        "              _, ng,pos = criterion(out1, out2, target, target, tau_plus, batch_size, beta, 'hard', epoch=10, temp=.5, return_Ng=True)\n",
        "              Ngs.append(ng)\n",
        "              Pos.append(pos)\n",
        "\n",
        "  if method == 'hard' or method == 'easy':\n",
        "\n",
        "    train_data, _, test_data = utils.get_dataset(dataset_name, root='../data/', pair=True)\n",
        "    test_loader = DataLoader(train_data, batch_size=batch_size, shuffle=False, num_workers=1, pin_memory=True)\n",
        "    \n",
        "    coords1 = []\n",
        "    coords2 = []\n",
        "    labels = []\n",
        "    Ngs = []\n",
        "    Pos = []\n",
        "\n",
        "    data_loader = test_loader\n",
        "    \n",
        "    for _ in range(1):\n",
        "      for data1, data2, target in tqdm(data_loader):\n",
        "\n",
        "          if data1.shape[0]!=batch_size:\n",
        "            break\n",
        "\n",
        "          data1 = data1.to(device, non_blocking=True)\n",
        "          data2 = data2.to(device, non_blocking=True)\n",
        "\n",
        "          with torch.no_grad():\n",
        "            \n",
        "              target = target.to(device,non_blocking=True)\n",
        "\n",
        "              _, out1 = model(data1)\n",
        "              _, out2 = model(data2)\n",
        "\n",
        "              labels.append(target.cpu().numpy())\n",
        "              normalized_output1 = out1.cpu().detach().numpy() / np.linalg.norm(out1.cpu().detach().numpy(), axis=1, keepdims=True)\n",
        "              normalized_output2 = out2.cpu().detach().numpy() / np.linalg.norm(out2.cpu().detach().numpy(), axis=1, keepdims=True)\n",
        "\n",
        "              coords1.append(normalized_output1)\n",
        "              coords2.append(normalized_output2)\n",
        "              _, ng,pos = criterion(out1, out2, target, target, tau_plus, batch_size, beta, method, epoch=10, temp=.5, return_Ng=True)\n",
        "              Ngs.append(ng)\n",
        "              Pos.append(pos)\n",
        "\n",
        "  Ngs = torch.cat(Ngs).detach().cpu().numpy()\n",
        "  Pos = torch.cat(Pos).detach().cpu().numpy()\n",
        "\n",
        "  out = Pos/(Pos+Ngs)\n",
        "\n",
        "  # out = out/sum(out)\n",
        "\n",
        "  # plt.hist(out, weights = np.ones(len(out))/len(out))\n",
        "  # plt.xlim(0,1)\n",
        "  # plt.show()\n",
        "\n",
        "  return out"
      ],
      "metadata": {
        "id": "twRSAG-OVHrd"
      },
      "execution_count": 6,
      "outputs": []
    },
    {
      "cell_type": "code",
      "source": [
        "results_all = {}"
      ],
      "metadata": {
        "id": "p9Vj3KxTToRL"
      },
      "execution_count": 7,
      "outputs": []
    },
    {
      "cell_type": "code",
      "source": [
        "for model_name in os.listdir('modelscopy'):\n",
        "  \n",
        "  split_name = model_name.split('_')\n",
        "  epoch = split_name[-1].split('.')[0]\n",
        "\n",
        "  if epoch == '1' or epoch == '5' or epoch == '9':\n",
        "\n",
        "    batch_size = split_name[-4]\n",
        "    tau = split_name[-3]\n",
        "    beta = split_name[-2]\n",
        "    name = split_name[1:-4]\n",
        "    name = ' '.join(name)\n",
        "\n",
        "    model_details = f'name = {name}, tau = {tau}, beta = {beta}, epoch = {epoch}'\n",
        "    print(model_details)\n",
        "\n",
        "    model = load_model(model_name)\n",
        "\n",
        "    out = visualize_plots(model,'hard',64,tau_plus=0.5,beta = 30)\n",
        "    results_all[(f'model_training:{model_details}',f'eval dist:hard,tau=0.5,beta = 30')] = out\n",
        "\n",
        "    out = visualize_plots(model,'easy',64)\n",
        "    results_all[(f'model_training:{model_details}',f'eval dist:easy,tau=0.0,beta = 0')] = out\n",
        "\n",
        "    out = visualize_plots(model,'adv',64)\n",
        "    results_all[(f'model_training:{model_details}',f'eval dist:adv,tau=0.0,beta = 0')] = out"
      ],
      "metadata": {
        "colab": {
          "base_uri": "https://localhost:8080/"
        },
        "id": "e1bzOToAPluL",
        "outputId": "323a71b4-3a6b-4c7e-fccc-ccef2c134ecb"
      },
      "execution_count": 8,
      "outputs": [
        {
          "output_type": "stream",
          "name": "stdout",
          "text": [
            "name = hard model, tau = 0.0, beta = 0.0, epoch = 1\n"
          ]
        },
        {
          "output_type": "stream",
          "name": "stderr",
          "text": [
            " 99%|█████████▉| 197/198 [00:08<00:00, 23.24it/s]\n",
            " 99%|█████████▉| 197/198 [00:08<00:00, 23.56it/s]\n",
            " 99%|█████████▉| 197/198 [00:23<00:00,  8.47it/s]\n"
          ]
        },
        {
          "output_type": "stream",
          "name": "stdout",
          "text": [
            "name = hard model, tau = 0.0, beta = 0.0, epoch = 5\n"
          ]
        },
        {
          "output_type": "stream",
          "name": "stderr",
          "text": [
            " 99%|█████████▉| 197/198 [00:08<00:00, 23.12it/s]\n",
            " 99%|█████████▉| 197/198 [00:08<00:00, 23.78it/s]\n",
            " 99%|█████████▉| 197/198 [00:23<00:00,  8.48it/s]\n"
          ]
        },
        {
          "output_type": "stream",
          "name": "stdout",
          "text": [
            "name = hard model, tau = 0.0, beta = 0.0, epoch = 9\n"
          ]
        },
        {
          "output_type": "stream",
          "name": "stderr",
          "text": [
            " 99%|█████████▉| 197/198 [00:08<00:00, 23.35it/s]\n",
            " 99%|█████████▉| 197/198 [00:08<00:00, 23.75it/s]\n",
            " 99%|█████████▉| 197/198 [00:23<00:00,  8.47it/s]\n"
          ]
        },
        {
          "output_type": "stream",
          "name": "stdout",
          "text": [
            "name = hard adv model, tau = 0.0, beta = 0.0, epoch = 1\n"
          ]
        },
        {
          "output_type": "stream",
          "name": "stderr",
          "text": [
            " 99%|█████████▉| 197/198 [00:08<00:00, 23.37it/s]\n",
            " 99%|█████████▉| 197/198 [00:08<00:00, 23.57it/s]\n",
            " 99%|█████████▉| 197/198 [00:23<00:00,  8.48it/s]\n"
          ]
        },
        {
          "output_type": "stream",
          "name": "stdout",
          "text": [
            "name = hard adv model, tau = 0.0, beta = 0.0, epoch = 5\n"
          ]
        },
        {
          "output_type": "stream",
          "name": "stderr",
          "text": [
            " 99%|█████████▉| 197/198 [00:08<00:00, 24.12it/s]\n",
            " 99%|█████████▉| 197/198 [00:08<00:00, 23.47it/s]\n",
            " 99%|█████████▉| 197/198 [00:23<00:00,  8.48it/s]\n"
          ]
        },
        {
          "output_type": "stream",
          "name": "stdout",
          "text": [
            "name = hard adv model, tau = 0.0, beta = 0.0, epoch = 9\n"
          ]
        },
        {
          "output_type": "stream",
          "name": "stderr",
          "text": [
            " 99%|█████████▉| 197/198 [00:08<00:00, 23.53it/s]\n",
            " 99%|█████████▉| 197/198 [00:08<00:00, 23.83it/s]\n",
            " 99%|█████████▉| 197/198 [00:23<00:00,  8.45it/s]\n"
          ]
        },
        {
          "output_type": "stream",
          "name": "stdout",
          "text": [
            "name = hard model, tau = 0.5, beta = 1.0, epoch = 1\n"
          ]
        },
        {
          "output_type": "stream",
          "name": "stderr",
          "text": [
            " 99%|█████████▉| 197/198 [00:08<00:00, 23.58it/s]\n",
            " 99%|█████████▉| 197/198 [00:08<00:00, 23.54it/s]\n",
            " 99%|█████████▉| 197/198 [00:23<00:00,  8.41it/s]\n"
          ]
        },
        {
          "output_type": "stream",
          "name": "stdout",
          "text": [
            "name = hard model, tau = 0.5, beta = 1.0, epoch = 5\n"
          ]
        },
        {
          "output_type": "stream",
          "name": "stderr",
          "text": [
            " 99%|█████████▉| 197/198 [00:08<00:00, 23.44it/s]\n",
            " 99%|█████████▉| 197/198 [00:08<00:00, 23.57it/s]\n",
            " 99%|█████████▉| 197/198 [00:23<00:00,  8.41it/s]\n"
          ]
        },
        {
          "output_type": "stream",
          "name": "stdout",
          "text": [
            "name = hard model, tau = 0.5, beta = 1.0, epoch = 9\n"
          ]
        },
        {
          "output_type": "stream",
          "name": "stderr",
          "text": [
            " 99%|█████████▉| 197/198 [00:08<00:00, 23.74it/s]\n",
            " 99%|█████████▉| 197/198 [00:08<00:00, 23.54it/s]\n",
            " 99%|█████████▉| 197/198 [00:23<00:00,  8.42it/s]\n"
          ]
        },
        {
          "output_type": "stream",
          "name": "stdout",
          "text": [
            "name = hard model, tau = 0.5, beta = 30.0, epoch = 1\n"
          ]
        },
        {
          "output_type": "stream",
          "name": "stderr",
          "text": [
            " 99%|█████████▉| 197/198 [00:08<00:00, 23.79it/s]\n",
            " 99%|█████████▉| 197/198 [00:08<00:00, 23.26it/s]\n",
            " 99%|█████████▉| 197/198 [00:23<00:00,  8.41it/s]\n"
          ]
        },
        {
          "output_type": "stream",
          "name": "stdout",
          "text": [
            "name = hard model, tau = 0.5, beta = 30.0, epoch = 5\n"
          ]
        },
        {
          "output_type": "stream",
          "name": "stderr",
          "text": [
            " 99%|█████████▉| 197/198 [00:08<00:00, 23.87it/s]\n",
            " 99%|█████████▉| 197/198 [00:08<00:00, 23.55it/s]\n",
            " 99%|█████████▉| 197/198 [00:23<00:00,  8.41it/s]\n"
          ]
        },
        {
          "output_type": "stream",
          "name": "stdout",
          "text": [
            "name = hard model, tau = 0.5, beta = 30.0, epoch = 9\n"
          ]
        },
        {
          "output_type": "stream",
          "name": "stderr",
          "text": [
            " 99%|█████████▉| 197/198 [00:08<00:00, 24.06it/s]\n",
            " 99%|█████████▉| 197/198 [00:08<00:00, 23.75it/s]\n",
            " 99%|█████████▉| 197/198 [00:23<00:00,  8.41it/s]\n"
          ]
        },
        {
          "output_type": "stream",
          "name": "stdout",
          "text": [
            "name = 0.5 model kalantidis, tau = 0.5, beta = 30.0, epoch = 1\n"
          ]
        },
        {
          "output_type": "stream",
          "name": "stderr",
          "text": [
            " 99%|█████████▉| 197/198 [00:08<00:00, 23.97it/s]\n",
            " 99%|█████████▉| 197/198 [00:08<00:00, 23.19it/s]\n",
            " 99%|█████████▉| 197/198 [00:23<00:00,  8.41it/s]\n"
          ]
        },
        {
          "output_type": "stream",
          "name": "stdout",
          "text": [
            "name = 0.5 model kalantidis, tau = 0.5, beta = 30.0, epoch = 5\n"
          ]
        },
        {
          "output_type": "stream",
          "name": "stderr",
          "text": [
            " 99%|█████████▉| 197/198 [00:08<00:00, 23.85it/s]\n",
            " 99%|█████████▉| 197/198 [00:08<00:00, 23.44it/s]\n",
            " 99%|█████████▉| 197/198 [00:23<00:00,  8.40it/s]\n"
          ]
        },
        {
          "output_type": "stream",
          "name": "stdout",
          "text": [
            "name = 0.5 model kalantidis, tau = 0.5, beta = 30.0, epoch = 9\n"
          ]
        },
        {
          "output_type": "stream",
          "name": "stderr",
          "text": [
            " 99%|█████████▉| 197/198 [00:08<00:00, 22.81it/s]\n",
            " 99%|█████████▉| 197/198 [00:08<00:00, 23.65it/s]\n",
            " 99%|█████████▉| 197/198 [00:23<00:00,  8.41it/s]\n"
          ]
        },
        {
          "output_type": "stream",
          "name": "stdout",
          "text": [
            "name = 0.5 model kalantidis, tau = 0.5, beta = 1.0, epoch = 1\n"
          ]
        },
        {
          "output_type": "stream",
          "name": "stderr",
          "text": [
            " 99%|█████████▉| 197/198 [00:08<00:00, 23.84it/s]\n",
            " 99%|█████████▉| 197/198 [00:08<00:00, 23.35it/s]\n",
            " 99%|█████████▉| 197/198 [00:23<00:00,  8.41it/s]\n"
          ]
        },
        {
          "output_type": "stream",
          "name": "stdout",
          "text": [
            "name = 0.5 model kalantidis, tau = 0.5, beta = 1.0, epoch = 5\n"
          ]
        },
        {
          "output_type": "stream",
          "name": "stderr",
          "text": [
            " 99%|█████████▉| 197/198 [00:08<00:00, 23.71it/s]\n",
            " 99%|█████████▉| 197/198 [00:08<00:00, 23.20it/s]\n",
            " 99%|█████████▉| 197/198 [00:23<00:00,  8.41it/s]\n"
          ]
        },
        {
          "output_type": "stream",
          "name": "stdout",
          "text": [
            "name = 0.5 model kalantidis, tau = 0.5, beta = 1.0, epoch = 9\n"
          ]
        },
        {
          "output_type": "stream",
          "name": "stderr",
          "text": [
            " 99%|█████████▉| 197/198 [00:08<00:00, 23.57it/s]\n",
            " 99%|█████████▉| 197/198 [00:08<00:00, 23.43it/s]\n",
            " 99%|█████████▉| 197/198 [00:23<00:00,  8.40it/s]\n"
          ]
        },
        {
          "output_type": "stream",
          "name": "stdout",
          "text": [
            "name = 0.5 model kalantidis, tau = 0.5, beta = 0.0, epoch = 1\n"
          ]
        },
        {
          "output_type": "stream",
          "name": "stderr",
          "text": [
            " 99%|█████████▉| 197/198 [00:08<00:00, 23.48it/s]\n",
            " 99%|█████████▉| 197/198 [00:08<00:00, 23.47it/s]\n",
            " 99%|█████████▉| 197/198 [00:23<00:00,  8.40it/s]\n"
          ]
        },
        {
          "output_type": "stream",
          "name": "stdout",
          "text": [
            "name = 0.5 model kalantidis, tau = 0.5, beta = 0.0, epoch = 5\n"
          ]
        },
        {
          "output_type": "stream",
          "name": "stderr",
          "text": [
            " 99%|█████████▉| 197/198 [00:08<00:00, 22.89it/s]\n",
            " 99%|█████████▉| 197/198 [00:08<00:00, 22.56it/s]\n",
            " 99%|█████████▉| 197/198 [00:23<00:00,  8.40it/s]\n"
          ]
        },
        {
          "output_type": "stream",
          "name": "stdout",
          "text": [
            "name = 0.5 model kalantidis, tau = 0.5, beta = 0.0, epoch = 9\n"
          ]
        },
        {
          "output_type": "stream",
          "name": "stderr",
          "text": [
            " 99%|█████████▉| 197/198 [00:08<00:00, 24.19it/s]\n",
            " 99%|█████████▉| 197/198 [00:08<00:00, 23.32it/s]\n",
            " 99%|█████████▉| 197/198 [00:23<00:00,  8.41it/s]\n"
          ]
        }
      ]
    },
    {
      "cell_type": "code",
      "source": [
        "with open(\"results_consolidated.pkl\",\"wb\") as f:\n",
        "  pickle.dump(results_all,f)"
      ],
      "metadata": {
        "id": "3mi2TLYL9a2j"
      },
      "execution_count": 9,
      "outputs": []
    },
    {
      "cell_type": "code",
      "source": [
        "# # batch_size,tau_plus,epoch = 256,0,10\n",
        "# beta=0\n",
        "# eps = .03\n",
        "# dataset_name = 'mnist'"
      ],
      "metadata": {
        "id": "PlPOD1kQbpl5"
      },
      "execution_count": null,
      "outputs": []
    },
    {
      "cell_type": "code",
      "source": [
        "torch.manual_seed(42)\n",
        "# batch_size = 32\n",
        "# train_data, _, test_data = utils.get_dataset(dataset_name, root='../data/', pair=True)\n",
        "# test_loader = DataLoader(train_data, batch_size=batch_size, shuffle=True, num_workers=1, pin_memory=True)"
      ],
      "metadata": {
        "colab": {
          "base_uri": "https://localhost:8080/"
        },
        "id": "rzJ-rap7bshO",
        "outputId": "1e9ad89c-5399-406d-db7d-f4c8bc757260"
      },
      "execution_count": null,
      "outputs": [
        {
          "output_type": "execute_result",
          "data": {
            "text/plain": [
              "<torch._C.Generator at 0x7fc0b98dd970>"
            ]
          },
          "metadata": {},
          "execution_count": 6
        }
      ]
    },
    {
      "cell_type": "code",
      "source": [
        "%%capture\n",
        "model_path = f'./modelscopy/mnist_hard_model_64_0.0_0.0_10.pth'\n",
        "model = Model().to(device)\n",
        "model = nn.DataParallel(model)\n",
        "model.load_state_dict(torch.load(model_path, map_location='cuda:0'))\n",
        "model.eval()"
      ],
      "metadata": {
        "id": "qrA-cCKeb0Fr"
      },
      "execution_count": null,
      "outputs": []
    },
    {
      "cell_type": "code",
      "source": [
        "for epoch in range(1,11,4):\n",
        "  \n",
        "  print(f'./modelscopy/mnist_hard_model_64_0.0_0.0_{epoch}.pth')\n",
        "\n",
        "  model_path = f'./modelscopy/mnist_hard_model_64_0.0_0.0_{epoch}.pth'\n",
        "  model = Model().to(device)\n",
        "  model = nn.DataParallel(model)\n",
        "  model.load_state_dict(torch.load(model_path, map_location='cuda:0'))\n",
        "  model.eval()\n",
        "\n",
        "  out = visualize_plots(model,'adv',64)\n",
        "  results[f'{epoch},adv,hard_model_0.0_0'] = out"
      ],
      "metadata": {
        "colab": {
          "base_uri": "https://localhost:8080/",
          "height": 960
        },
        "id": "EawY4QXTlTZh",
        "outputId": "9d6ec20b-5de5-43b3-d66c-795a4d6c8f97"
      },
      "execution_count": 22,
      "outputs": [
        {
          "output_type": "stream",
          "name": "stdout",
          "text": [
            "./modelscopy/mnist_hard_model_64_0.0_0.0_1.pth\n",
            "64\n"
          ]
        },
        {
          "output_type": "stream",
          "name": "stderr",
          "text": [
            " 99%|█████████▉| 197/198 [00:23<00:00,  8.37it/s]\n"
          ]
        },
        {
          "output_type": "display_data",
          "data": {
            "text/plain": [
              "<Figure size 432x288 with 1 Axes>"
            ],
            "image/png": "[encoded data removed]"
          },
          "metadata": {
            "needs_background": "light"
          }
        },
        {
          "output_type": "stream",
          "name": "stdout",
          "text": [
            "./modelscopy/mnist_hard_model_64_0.0_0.0_5.pth\n",
            "64\n"
          ]
        },
        {
          "output_type": "stream",
          "name": "stderr",
          "text": [
            " 99%|█████████▉| 197/198 [00:23<00:00,  8.38it/s]\n"
          ]
        },
        {
          "output_type": "display_data",
          "data": {
            "text/plain": [
              "<Figure size 432x288 with 1 Axes>"
            ],
            "image/png": "[encoded data removed]"
          },
          "metadata": {
            "needs_background": "light"
          }
        },
        {
          "output_type": "stream",
          "name": "stdout",
          "text": [
            "./modelscopy/mnist_hard_model_64_0.0_0.0_9.pth\n",
            "64\n"
          ]
        },
        {
          "output_type": "stream",
          "name": "stderr",
          "text": [
            " 99%|█████████▉| 197/198 [00:23<00:00,  8.39it/s]\n"
          ]
        },
        {
          "output_type": "display_data",
          "data": {
            "text/plain": [
              "<Figure size 432x288 with 1 Axes>"
            ],
            "image/png": "[encoded data removed]"
          },
          "metadata": {
            "needs_background": "light"
          }
        }
      ]
    },
    {
      "cell_type": "code",
      "source": [
        "# for epoch in range(1,11,4):\n",
        "#   print(f'./modelscopy/mnist_hard_adv_model_64_0.0_0.0_{epoch}.pth')\n",
        "\n",
        "#   model_path = f'./modelscopy/mnist_hard_adv_model_64_0.0_0.0_{epoch}.pth'\n",
        "#   model = Model().to(device)\n",
        "#   model = nn.DataParallel(model)\n",
        "#   model.load_state_dict(torch.load(model_path, map_location='cuda:0'))\n",
        "#   model.eval()\n",
        "\n",
        "#   out = visualize_plots(model,'hard', 64, tau_plus = 0.5, beta = 30)\n",
        "#   results[f'{epoch},hard,0.5,30,hard_adv_model_0.0_0.0'] = out\n",
        "\n",
        "for epoch in range(1,11,4):\n",
        "  \n",
        "  print(f'./modelscopy/mnist_hard_model_64_0.0_0.0_{epoch}.pth')\n",
        "\n",
        "  model_path = f'./modelscopy/mnist_hard_model_64_0.0_0.0_{epoch}.pth'\n",
        "  model = Model().to(device)\n",
        "  model = nn.DataParallel(model)\n",
        "  model.load_state_dict(torch.load(model_path, map_location='cuda:0'))\n",
        "  model.eval()\n",
        "\n",
        "  out = visualize_plots(model,'hard',64,tau_plus=0.5,beta = 30)\n",
        "  results[f'{epoch},hard,0.5,30,hard_model_0.0_0'] = out"
      ],
      "metadata": {
        "colab": {
          "base_uri": "https://localhost:8080/",
          "height": 894
        },
        "id": "zTbCJu6Xlw_a",
        "outputId": "68b5bf07-8179-4bd6-a037-18249a48ac2c"
      },
      "execution_count": 23,
      "outputs": [
        {
          "output_type": "stream",
          "name": "stdout",
          "text": [
            "./modelscopy/mnist_hard_model_64_0.0_0.0_1.pth\n"
          ]
        },
        {
          "output_type": "stream",
          "name": "stderr",
          "text": [
            " 99%|█████████▉| 197/198 [00:08<00:00, 23.04it/s]\n"
          ]
        },
        {
          "output_type": "display_data",
          "data": {
            "text/plain": [
              "<Figure size 432x288 with 1 Axes>"
            ],
            "image/png": "[encoded data removed]"
          },
          "metadata": {
            "needs_background": "light"
          }
        },
        {
          "output_type": "stream",
          "name": "stdout",
          "text": [
            "./modelscopy/mnist_hard_model_64_0.0_0.0_5.pth\n"
          ]
        },
        {
          "output_type": "stream",
          "name": "stderr",
          "text": [
            " 99%|█████████▉| 197/198 [00:08<00:00, 23.49it/s]\n"
          ]
        },
        {
          "output_type": "display_data",
          "data": {
            "text/plain": [
              "<Figure size 432x288 with 1 Axes>"
            ],
            "image/png": "[encoded data removed]"
          },
          "metadata": {
            "needs_background": "light"
          }
        },
        {
          "output_type": "stream",
          "name": "stdout",
          "text": [
            "./modelscopy/mnist_hard_model_64_0.0_0.0_9.pth\n"
          ]
        },
        {
          "output_type": "stream",
          "name": "stderr",
          "text": [
            " 99%|█████████▉| 197/198 [00:08<00:00, 23.42it/s]\n"
          ]
        },
        {
          "output_type": "display_data",
          "data": {
            "text/plain": [
              "<Figure size 432x288 with 1 Axes>"
            ],
            "image/png": "[encoded data removed]"
          },
          "metadata": {
            "needs_background": "light"
          }
        }
      ]
    },
    {
      "cell_type": "code",
      "source": [
        "li"
      ],
      "metadata": {
        "id": "ivFbspVBD_Lx"
      },
      "execution_count": null,
      "outputs": []
    },
    {
      "cell_type": "code",
      "source": [
        "# for epoch in range(1,11,4):\n",
        "#   print(f'./modelscopy/mnist_hard_adv_model_64_0.0_0.0_{epoch}.pth')\n",
        "\n",
        "#   model_path = f'./modelscopy/mnist_hard_adv_model_64_0.0_0.0_{epoch}.pth'\n",
        "#   model = Model().to(device)\n",
        "#   model = nn.DataParallel(model)\n",
        "#   model.load_state_dict(torch.load(model_path, map_location='cuda:0'))\n",
        "#   model.eval()\n",
        "  \n",
        "#   out = visualize_plots(model,'easy',64)\n",
        "#   results[f'{epoch},easy,hard_adv_model_0.0_0.0'] = out\n",
        "\n",
        "for epoch in range(1,11,4):\n",
        "  \n",
        "  print(f'./modelscopy/mnist_hard_model_64_0.0_0.0_{epoch}.pth')\n",
        "\n",
        "  model_path = f'./modelscopy/mnist_hard_model_64_0.0_0.0_{epoch}.pth'\n",
        "  model = Model().to(device)\n",
        "  model = nn.DataParallel(model)\n",
        "  model.load_state_dict(torch.load(model_path, map_location='cuda:0'))\n",
        "  model.eval()\n",
        "\n",
        "  out = visualize_plots(model,'easy',64)\n",
        "  results[f'{epoch},easy,hard_model_0.0_0'] = out"
      ],
      "metadata": {
        "colab": {
          "base_uri": "https://localhost:8080/",
          "height": 894
        },
        "id": "5FuMIBZgl3k_",
        "outputId": "2c2fcfc2-e77c-4415-c677-8c64df3e7284"
      },
      "execution_count": 24,
      "outputs": [
        {
          "output_type": "stream",
          "name": "stdout",
          "text": [
            "./modelscopy/mnist_hard_model_64_0.0_0.0_1.pth\n"
          ]
        },
        {
          "output_type": "stream",
          "name": "stderr",
          "text": [
            " 99%|█████████▉| 197/198 [00:08<00:00, 23.64it/s]\n"
          ]
        },
        {
          "output_type": "display_data",
          "data": {
            "text/plain": [
              "<Figure size 432x288 with 1 Axes>"
            ],
            "image/png": "[encoded data removed]"
          },
          "metadata": {
            "needs_background": "light"
          }
        },
        {
          "output_type": "stream",
          "name": "stdout",
          "text": [
            "./modelscopy/mnist_hard_model_64_0.0_0.0_5.pth\n"
          ]
        },
        {
          "output_type": "stream",
          "name": "stderr",
          "text": [
            " 99%|█████████▉| 197/198 [00:08<00:00, 23.21it/s]\n"
          ]
        },
        {
          "output_type": "display_data",
          "data": {
            "text/plain": [
              "<Figure size 432x288 with 1 Axes>"
            ],
            "image/png": "[encoded data removed]"
          },
          "metadata": {
            "needs_background": "light"
          }
        },
        {
          "output_type": "stream",
          "name": "stdout",
          "text": [
            "./modelscopy/mnist_hard_model_64_0.0_0.0_9.pth\n"
          ]
        },
        {
          "output_type": "stream",
          "name": "stderr",
          "text": [
            " 99%|█████████▉| 197/198 [00:08<00:00, 23.00it/s]\n"
          ]
        },
        {
          "output_type": "display_data",
          "data": {
            "text/plain": [
              "<Figure size 432x288 with 1 Axes>"
            ],
            "image/png": "[encoded data removed]"
          },
          "metadata": {
            "needs_background": "light"
          }
        }
      ]
    },
    {
      "cell_type": "code",
      "source": [
        "for model_name in os.listdir('modelscopy'):\n",
        "  if model_name[-6:-4] == '10':\n",
        "    model_path = f'./modelscopy/{model_name}'\n",
        "    model = Model().to(device)\n",
        "    model = nn.DataParallel(model)\n",
        "    model.load_state_dict(torch.load(model_path, map_location='cuda:0'))\n",
        "    model.eval()\n",
        "\n",
        "    bs,tau,beta,epoch = model_name.split('_')[-4:]\n",
        "    epoch = epoch.split('.')[0]\n",
        "    \n",
        "    print(model_name)\n",
        "\n",
        "    out = visualize_plots(model,'adv',int(bs))\n",
        "    results[f'{10},adv,{model_name}'] = out\n",
        "    out = visualize_plots(model,'hard',int(bs), tau_plus = float(tau), beta = float(beta))\n",
        "    results[f'{10},hard,{tau},{beta},{model_name}'] = out\n",
        "    out = visualize_plots(model,'easy',int(bs))\n",
        "    results[f'{10},easy,{model_name}'] = out"
      ],
      "metadata": {
        "colab": {
          "base_uri": "https://localhost:8080/",
          "height": 1000
        },
        "id": "YmAV2HQR8tX4",
        "outputId": "5c270f42-d4f6-48fe-de86-5ea1cb5ce0be"
      },
      "execution_count": null,
      "outputs": [
        {
          "output_type": "stream",
          "name": "stdout",
          "text": [
            "mnist_hard_model_64_0.0_0.0_10.pth\n",
            "64\n"
          ]
        },
        {
          "output_type": "stream",
          "name": "stderr",
          "text": [
            " 99%|█████████▉| 197/198 [00:23<00:00,  8.33it/s]\n"
          ]
        },
        {
          "output_type": "display_data",
          "data": {
            "text/plain": [
              "<Figure size 432x288 with 1 Axes>"
            ],
            "image/png": "[encoded data removed]"
          },
          "metadata": {
            "needs_background": "light"
          }
        },
        {
          "output_type": "stream",
          "name": "stderr",
          "text": [
            " 99%|█████████▉| 197/198 [00:09<00:00, 20.38it/s]\n"
          ]
        },
        {
          "output_type": "display_data",
          "data": {
            "text/plain": [
              "<Figure size 432x288 with 1 Axes>"
            ],
            "image/png": "[encoded data removed]"
          },
          "metadata": {
            "needs_background": "light"
          }
        },
        {
          "output_type": "stream",
          "name": "stderr",
          "text": [
            " 99%|█████████▉| 197/198 [00:09<00:00, 21.32it/s]\n"
          ]
        },
        {
          "output_type": "display_data",
          "data": {
            "text/plain": [
              "<Figure size 432x288 with 1 Axes>"
            ],
            "image/png": "[encoded data removed]"
          },
          "metadata": {
            "needs_background": "light"
          }
        },
        {
          "output_type": "stream",
          "name": "stdout",
          "text": [
            "mnist_hard_adv_model_64_0.0_0.0_10.pth\n",
            "64\n"
          ]
        },
        {
          "output_type": "stream",
          "name": "stderr",
          "text": [
            " 99%|█████████▉| 197/198 [00:23<00:00,  8.31it/s]\n"
          ]
        },
        {
          "output_type": "display_data",
          "data": {
            "text/plain": [
              "<Figure size 432x288 with 1 Axes>"
            ],
            "image/png": "[encoded data removed]"
          },
          "metadata": {
            "needs_background": "light"
          }
        },
        {
          "output_type": "stream",
          "name": "stderr",
          "text": [
            " 99%|█████████▉| 197/198 [00:08<00:00, 23.05it/s]\n"
          ]
        },
        {
          "output_type": "display_data",
          "data": {
            "text/plain": [
              "<Figure size 432x288 with 1 Axes>"
            ],
            "image/png": "[encoded data removed]"
          },
          "metadata": {
            "needs_background": "light"
          }
        },
        {
          "output_type": "stream",
          "name": "stderr",
          "text": [
            " 99%|█████████▉| 197/198 [00:08<00:00, 22.67it/s]\n"
          ]
        },
        {
          "output_type": "display_data",
          "data": {
            "text/plain": [
              "<Figure size 432x288 with 1 Axes>"
            ],
            "image/png": "[encoded data removed]"
          },
          "metadata": {
            "needs_background": "light"
          }
        },
        {
          "output_type": "stream",
          "name": "stdout",
          "text": [
            "mnist_hard_model_64_0.5_1.0_10.pth\n",
            "64\n"
          ]
        },
        {
          "output_type": "stream",
          "name": "stderr",
          "text": [
            " 99%|█████████▉| 197/198 [00:23<00:00,  8.33it/s]\n"
          ]
        },
        {
          "output_type": "display_data",
          "data": {
            "text/plain": [
              "<Figure size 432x288 with 1 Axes>"
            ],
            "image/png": "[encoded data removed]"
          },
          "metadata": {
            "needs_background": "light"
          }
        },
        {
          "output_type": "stream",
          "name": "stderr",
          "text": [
            " 99%|█████████▉| 197/198 [00:08<00:00, 21.90it/s]\n"
          ]
        },
        {
          "output_type": "display_data",
          "data": {
            "text/plain": [
              "<Figure size 432x288 with 1 Axes>"
            ],
            "image/png": "[encoded data removed]"
          },
          "metadata": {
            "needs_background": "light"
          }
        },
        {
          "output_type": "stream",
          "name": "stderr",
          "text": [
            " 99%|█████████▉| 197/198 [00:08<00:00, 22.80it/s]\n"
          ]
        },
        {
          "output_type": "display_data",
          "data": {
            "text/plain": [
              "<Figure size 432x288 with 1 Axes>"
            ],
            "image/png": "[encoded data removed]"
          },
          "metadata": {
            "needs_background": "light"
          }
        },
        {
          "output_type": "stream",
          "name": "stdout",
          "text": [
            "mnist_hard_model_64_0.5_30.0_10.pth\n",
            "64\n"
          ]
        },
        {
          "output_type": "stream",
          "name": "stderr",
          "text": [
            " 99%|█████████▉| 197/198 [00:23<00:00,  8.30it/s]\n"
          ]
        },
        {
          "output_type": "display_data",
          "data": {
            "text/plain": [
              "<Figure size 432x288 with 1 Axes>"
            ],
            "image/png": "[encoded data removed]"
          },
          "metadata": {
            "needs_background": "light"
          }
        },
        {
          "output_type": "stream",
          "name": "stderr",
          "text": [
            " 99%|█████████▉| 197/198 [00:09<00:00, 20.28it/s]\n"
          ]
        },
        {
          "output_type": "display_data",
          "data": {
            "text/plain": [
              "<Figure size 432x288 with 1 Axes>"
            ],
            "image/png": "[encoded data removed]"
          },
          "metadata": {
            "needs_background": "light"
          }
        },
        {
          "output_type": "stream",
          "name": "stderr",
          "text": [
            " 99%|█████████▉| 197/198 [00:09<00:00, 21.39it/s]\n"
          ]
        },
        {
          "output_type": "display_data",
          "data": {
            "text/plain": [
              "<Figure size 432x288 with 1 Axes>"
            ],
            "image/png": "[encoded data removed]"
          },
          "metadata": {
            "needs_background": "light"
          }
        },
        {
          "output_type": "stream",
          "name": "stdout",
          "text": [
            "mnist_0.5_model_kalantidis_64_0.5_30.0_10.pth\n",
            "64\n"
          ]
        },
        {
          "output_type": "stream",
          "name": "stderr",
          "text": [
            " 99%|█████████▉| 197/198 [00:23<00:00,  8.31it/s]\n"
          ]
        },
        {
          "output_type": "display_data",
          "data": {
            "text/plain": [
              "<Figure size 432x288 with 1 Axes>"
            ],
            "image/png": "[encoded data removed]"
          },
          "metadata": {
            "needs_background": "light"
          }
        },
        {
          "output_type": "stream",
          "name": "stderr",
          "text": [
            " 99%|█████████▉| 197/198 [00:08<00:00, 22.47it/s]\n"
          ]
        },
        {
          "output_type": "display_data",
          "data": {
            "text/plain": [
              "<Figure size 432x288 with 1 Axes>"
            ],
            "image/png": "[encoded data removed]"
          },
          "metadata": {
            "needs_background": "light"
          }
        },
        {
          "output_type": "stream",
          "name": "stderr",
          "text": [
            " 99%|█████████▉| 197/198 [00:08<00:00, 22.64it/s]\n"
          ]
        },
        {
          "output_type": "display_data",
          "data": {
            "text/plain": [
              "<Figure size 432x288 with 1 Axes>"
            ],
            "image/png": "[encoded data removed]"
          },
          "metadata": {
            "needs_background": "light"
          }
        },
        {
          "output_type": "stream",
          "name": "stdout",
          "text": [
            "mnist_0.5_model_kalantidis_64_0.5_1.0_10.pth\n",
            "64\n"
          ]
        },
        {
          "output_type": "stream",
          "name": "stderr",
          "text": [
            " 99%|█████████▉| 197/198 [00:23<00:00,  8.33it/s]\n"
          ]
        },
        {
          "output_type": "display_data",
          "data": {
            "text/plain": [
              "<Figure size 432x288 with 1 Axes>"
            ],
            "image/png": "[encoded data removed]"
          },
          "metadata": {
            "needs_background": "light"
          }
        },
        {
          "output_type": "stream",
          "name": "stderr",
          "text": [
            " 99%|█████████▉| 197/198 [00:08<00:00, 22.56it/s]\n"
          ]
        },
        {
          "output_type": "display_data",
          "data": {
            "text/plain": [
              "<Figure size 432x288 with 1 Axes>"
            ],
            "image/png": "[encoded data removed]"
          },
          "metadata": {
            "needs_background": "light"
          }
        },
        {
          "output_type": "stream",
          "name": "stderr",
          "text": [
            " 99%|█████████▉| 197/198 [00:08<00:00, 22.52it/s]\n"
          ]
        },
        {
          "output_type": "display_data",
          "data": {
            "text/plain": [
              "<Figure size 432x288 with 1 Axes>"
            ],
            "image/png": "[encoded data removed]"
          },
          "metadata": {
            "needs_background": "light"
          }
        },
        {
          "output_type": "stream",
          "name": "stdout",
          "text": [
            "mnist_0.5_model_kalantidis_64_0.5_0.0_10.pth\n",
            "64\n"
          ]
        },
        {
          "output_type": "stream",
          "name": "stderr",
          "text": [
            " 99%|█████████▉| 197/198 [00:23<00:00,  8.34it/s]\n"
          ]
        },
        {
          "output_type": "display_data",
          "data": {
            "text/plain": [
              "<Figure size 432x288 with 1 Axes>"
            ],
            "image/png": "[encoded data removed]"
          },
          "metadata": {
            "needs_background": "light"
          }
        },
        {
          "output_type": "stream",
          "name": "stderr",
          "text": [
            " 99%|█████████▉| 197/198 [00:08<00:00, 23.15it/s]\n"
          ]
        },
        {
          "output_type": "display_data",
          "data": {
            "text/plain": [
              "<Figure size 432x288 with 1 Axes>"
            ],
            "image/png": "[encoded data removed]"
          },
          "metadata": {
            "needs_background": "light"
          }
        },
        {
          "output_type": "stream",
          "name": "stderr",
          "text": [
            " 99%|█████████▉| 197/198 [00:08<00:00, 23.01it/s]\n"
          ]
        },
        {
          "output_type": "display_data",
          "data": {
            "text/plain": [
              "<Figure size 432x288 with 1 Axes>"
            ],
            "image/png": "[encoded data removed]"
          },
          "metadata": {
            "needs_background": "light"
          }
        }
      ]
    },
    {
      "cell_type": "code",
      "source": [
        "plt.hist(results['10,easy,mnist_0.5_model_kalantidis_64_0.5_30.0_10.pth'])\n",
        "plt.xlim(0,1)"
      ],
      "metadata": {
        "colab": {
          "base_uri": "https://localhost:8080/",
          "height": 288
        },
        "id": "toTRkeDe5xtI",
        "outputId": "fb8771f4-36e7-4585-ba22-27940d8d6092"
      },
      "execution_count": null,
      "outputs": [
        {
          "output_type": "execute_result",
          "data": {
            "text/plain": [
              "(0.0, 1.0)"
            ]
          },
          "metadata": {},
          "execution_count": 67
        },
        {
          "output_type": "display_data",
          "data": {
            "text/plain": [
              "<Figure size 432x288 with 1 Axes>"
            ],
            "image/png": "[encoded data removed]"
          },
          "metadata": {
            "needs_background": "light"
          }
        }
      ]
    },
    {
      "cell_type": "code",
      "source": [
        "visualize_plots(model,'adv',64)"
      ],
      "metadata": {
        "colab": {
          "base_uri": "https://localhost:8080/",
          "height": 442
        },
        "id": "NbZSobsvNXut",
        "outputId": "bfee9153-dd3e-43f3-e235-219defa609a1"
      },
      "execution_count": null,
      "outputs": [
        {
          "output_type": "stream",
          "name": "stdout",
          "text": [
            "64\n"
          ]
        },
        {
          "output_type": "stream",
          "name": "stderr",
          "text": [
            " 99%|█████████▉| 197/198 [00:32<00:00,  6.13it/s]\n",
            " 99%|█████████▉| 197/198 [00:32<00:00,  6.08it/s]\n",
            " 99%|█████████▉| 197/198 [00:32<00:00,  6.13it/s]\n",
            " 99%|█████████▉| 197/198 [00:32<00:00,  6.13it/s]\n",
            " 99%|█████████▉| 197/198 [00:32<00:00,  6.12it/s]\n"
          ]
        },
        {
          "output_type": "display_data",
          "data": {
            "text/plain": [
              "<Figure size 432x288 with 1 Axes>"
            ],
            "image/png": "[encoded data removed]"
          },
          "metadata": {
            "needs_background": "light"
          }
        },
        {
          "output_type": "execute_result",
          "data": {
            "text/plain": [
              "array([274.57196, 226.98642, 320.1507 , ..., 241.62418, 278.93103,\n",
              "       231.1698 ], dtype=float32)"
            ]
          },
          "metadata": {},
          "execution_count": 24
        }
      ]
    },
    {
      "cell_type": "code",
      "source": [
        "visualize_plots(model,'hard',64, tau_plus = 0, beta = 0.0)"
      ],
      "metadata": {
        "colab": {
          "base_uri": "https://localhost:8080/",
          "height": 420
        },
        "id": "0Vc_X2nkdRFb",
        "outputId": "a8f240f4-2ece-4e05-d784-bf1fa2cf2825"
      },
      "execution_count": null,
      "outputs": [
        {
          "output_type": "stream",
          "name": "stderr",
          "text": [
            " 99%|█████████▉| 197/198 [00:10<00:00, 19.11it/s]\n",
            " 99%|█████████▉| 197/198 [00:10<00:00, 19.26it/s]\n",
            " 99%|█████████▉| 197/198 [00:10<00:00, 18.92it/s]\n",
            " 99%|█████████▉| 197/198 [00:10<00:00, 19.50it/s]\n",
            " 99%|█████████▉| 197/198 [00:10<00:00, 19.25it/s]\n"
          ]
        },
        {
          "output_type": "display_data",
          "data": {
            "text/plain": [
              "<Figure size 432x288 with 1 Axes>"
            ],
            "image/png": "[encoded data removed]"
          },
          "metadata": {
            "needs_background": "light"
          }
        },
        {
          "output_type": "execute_result",
          "data": {
            "text/plain": [
              "array([249.96736, 267.56348, 318.02948, ..., 272.13272, 326.53137,\n",
              "       275.46576], dtype=float32)"
            ]
          },
          "metadata": {},
          "execution_count": 25
        }
      ]
    },
    {
      "cell_type": "code",
      "source": [
        "visualize_plots(model,'hard',64, tau_plus = 0.5, beta = 10)"
      ],
      "metadata": {
        "colab": {
          "base_uri": "https://localhost:8080/",
          "height": 420
        },
        "id": "rUKW8TnHYtu8",
        "outputId": "8dd22660-10ff-4564-d547-8fdde9d1bf5a"
      },
      "execution_count": null,
      "outputs": [
        {
          "output_type": "stream",
          "name": "stderr",
          "text": [
            " 99%|█████████▉| 197/198 [00:09<00:00, 19.85it/s]\n",
            " 99%|█████████▉| 197/198 [00:10<00:00, 19.16it/s]\n",
            " 99%|█████████▉| 197/198 [00:10<00:00, 19.25it/s]\n",
            " 99%|█████████▉| 197/198 [00:10<00:00, 19.38it/s]\n",
            " 99%|█████████▉| 197/198 [00:10<00:00, 19.51it/s]\n"
          ]
        },
        {
          "output_type": "display_data",
          "data": {
            "text/plain": [
              "<Figure size 432x288 with 1 Axes>"
            ],
            "image/png": "[encoded data removed]"
          },
          "metadata": {
            "needs_background": "light"
          }
        },
        {
          "output_type": "execute_result",
          "data": {
            "text/plain": [
              "array([1233.3438 ,  871.56287, 1008.9769 , ..., 1445.5767 ,  879.5588 ,\n",
              "        851.8362 ], dtype=float32)"
            ]
          },
          "metadata": {},
          "execution_count": 26
        }
      ]
    },
    {
      "cell_type": "code",
      "source": [
        "visualize_plots(model,'easy',64)"
      ],
      "metadata": {
        "colab": {
          "base_uri": "https://localhost:8080/",
          "height": 420
        },
        "id": "9vmSTAR4SKwd",
        "outputId": "d16fd783-f3db-4799-bc3c-d1f2613b0bfa"
      },
      "execution_count": null,
      "outputs": [
        {
          "output_type": "stream",
          "name": "stderr",
          "text": [
            " 99%|█████████▉| 197/198 [00:10<00:00, 19.20it/s]\n",
            " 99%|█████████▉| 197/198 [00:09<00:00, 19.79it/s]\n",
            " 99%|█████████▉| 197/198 [00:10<00:00, 19.46it/s]\n",
            " 99%|█████████▉| 197/198 [00:10<00:00, 19.10it/s]\n",
            " 99%|█████████▉| 197/198 [00:10<00:00, 19.44it/s]\n"
          ]
        },
        {
          "output_type": "display_data",
          "data": {
            "text/plain": [
              "<Figure size 432x288 with 1 Axes>"
            ],
            "image/png": "[encoded data removed]"
          },
          "metadata": {
            "needs_background": "light"
          }
        },
        {
          "output_type": "execute_result",
          "data": {
            "text/plain": [
              "array([298.67395, 258.12   , 288.26053, ..., 354.34903, 292.8662 ,\n",
              "       257.12735], dtype=float32)"
            ]
          },
          "metadata": {},
          "execution_count": 27
        }
      ]
    },
    {
      "cell_type": "code",
      "source": [
        "%%capture\n",
        "model_path = f'./10-716 Models/mnist_hard_model_64_0.0_0.0_10.pth'\n",
        "model = Model().to(device)\n",
        "model = nn.DataParallel(model)\n",
        "model.load_state_dict(torch.load(model_path, map_location='cuda:0'))\n",
        "model.eval()"
      ],
      "metadata": {
        "id": "YsTOsRwlnwES"
      },
      "execution_count": null,
      "outputs": []
    },
    {
      "cell_type": "code",
      "source": [
        "visualize_plots(model,'adv',64)"
      ],
      "metadata": {
        "colab": {
          "base_uri": "https://localhost:8080/",
          "height": 442
        },
        "id": "gMwAg7hknbXB",
        "outputId": "0893c515-751a-4cae-ef7d-26c039a36b33"
      },
      "execution_count": null,
      "outputs": [
        {
          "output_type": "stream",
          "name": "stdout",
          "text": [
            "64\n"
          ]
        },
        {
          "output_type": "stream",
          "name": "stderr",
          "text": [
            " 99%|█████████▉| 197/198 [01:28<00:00,  2.23it/s]\n",
            " 99%|█████████▉| 197/198 [01:28<00:00,  2.22it/s]\n",
            " 99%|█████████▉| 197/198 [01:28<00:00,  2.23it/s]\n",
            " 99%|█████████▉| 197/198 [01:28<00:00,  2.23it/s]\n",
            " 99%|█████████▉| 197/198 [01:28<00:00,  2.23it/s]\n"
          ]
        },
        {
          "output_type": "display_data",
          "data": {
            "text/plain": [
              "<Figure size 432x288 with 1 Axes>"
            ],
            "image/png": "[encoded data removed]"
          },
          "metadata": {
            "needs_background": "light"
          }
        },
        {
          "output_type": "execute_result",
          "data": {
            "text/plain": [
              "array([239.94005, 355.38687, 316.37912, ..., 243.25229, 376.60413,\n",
              "       248.94601], dtype=float32)"
            ]
          },
          "metadata": {},
          "execution_count": 49
        }
      ]
    },
    {
      "cell_type": "code",
      "source": [
        "visualize_plots(model,'hard',64, tau_plus = 0, beta = 0.0)"
      ],
      "metadata": {
        "colab": {
          "base_uri": "https://localhost:8080/",
          "height": 420
        },
        "id": "rdj3jH44neIY",
        "outputId": "0bfe1646-1d2d-4f0f-9cb8-1f5535740683"
      },
      "execution_count": null,
      "outputs": [
        {
          "output_type": "stream",
          "name": "stderr",
          "text": [
            " 99%|█████████▉| 197/198 [00:21<00:00,  9.38it/s]\n",
            " 99%|█████████▉| 197/198 [00:21<00:00,  9.36it/s]\n",
            " 99%|█████████▉| 197/198 [00:21<00:00,  9.32it/s]\n",
            " 99%|█████████▉| 197/198 [00:21<00:00,  9.34it/s]\n",
            " 99%|█████████▉| 197/198 [00:20<00:00,  9.41it/s]\n"
          ]
        },
        {
          "output_type": "display_data",
          "data": {
            "text/plain": [
              "<Figure size 432x288 with 1 Axes>"
            ],
            "image/png": "[encoded data removed]"
          },
          "metadata": {
            "needs_background": "light"
          }
        },
        {
          "output_type": "execute_result",
          "data": {
            "text/plain": [
              "array([255.2528 , 270.22552, 336.94888, ..., 271.30316, 329.4577 ,\n",
              "       270.5266 ], dtype=float32)"
            ]
          },
          "metadata": {},
          "execution_count": 50
        }
      ]
    },
    {
      "cell_type": "code",
      "source": [
        "visualize_plots(model,'hard',64, tau_plus = 0.5, beta = 10)"
      ],
      "metadata": {
        "colab": {
          "base_uri": "https://localhost:8080/",
          "height": 424
        },
        "id": "NO75_r6cngZp",
        "outputId": "cf6df6d9-e561-4055-ad42-42ec12a5bfc7"
      },
      "execution_count": null,
      "outputs": [
        {
          "output_type": "stream",
          "name": "stderr",
          "text": [
            " 99%|█████████▉| 197/198 [00:21<00:00,  9.24it/s]\n",
            " 99%|█████████▉| 197/198 [00:21<00:00,  9.18it/s]\n",
            " 99%|█████████▉| 197/198 [00:21<00:00,  9.34it/s]\n",
            " 99%|█████████▉| 197/198 [00:20<00:00,  9.38it/s]\n",
            " 99%|█████████▉| 197/198 [00:20<00:00,  9.42it/s]\n"
          ]
        },
        {
          "output_type": "display_data",
          "data": {
            "text/plain": [
              "<Figure size 432x288 with 1 Axes>"
            ],
            "image/png": "[encoded data removed]"
          },
          "metadata": {
            "needs_background": "light"
          }
        },
        {
          "output_type": "execute_result",
          "data": {
            "text/plain": [
              "array([1082.4905 ,  894.6808 ,  920.51276, ..., 1059.416  ,  956.3551 ,\n",
              "       1749.3453 ], dtype=float32)"
            ]
          },
          "metadata": {},
          "execution_count": 53
        }
      ]
    },
    {
      "cell_type": "code",
      "source": [
        "visualize_plots(model,'easy',64)"
      ],
      "metadata": {
        "colab": {
          "base_uri": "https://localhost:8080/"
        },
        "id": "1uziVM6lnjhr",
        "outputId": "a520860e-4c9a-4ee2-cdaf-cd9d942250f6"
      },
      "execution_count": null,
      "outputs": [
        {
          "output_type": "stream",
          "name": "stderr",
          "text": [
            " 31%|███▏      | 62/198 [00:06<00:13,  9.98it/s]"
          ]
        }
      ]
    },
    {
      "cell_type": "code",
      "source": [
        "import pickle"
      ],
      "metadata": {
        "id": "R_0i3ZExntUR"
      },
      "execution_count": 26,
      "outputs": []
    },
    {
      "cell_type": "code",
      "source": [
        "with open(\"results.pkl\",\"wb\") as f:\n",
        "  pickle.dump(results,f)"
      ],
      "metadata": {
        "id": "d2BDha_W9Qn1"
      },
      "execution_count": 27,
      "outputs": []
    },
    {
      "cell_type": "code",
      "source": [
        ""
      ],
      "metadata": {
        "id": "mkRDwkxX9W9C"
      },
      "execution_count": null,
      "outputs": []
    }
  ]
}